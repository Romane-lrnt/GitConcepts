{
  "nbformat": 4,
  "nbformat_minor": 0,
  "metadata": {
    "colab": {
      "provenance": [],
      "authorship_tag": "ABX9TyNB5vbT0s5YJ2PopddmnViU",
      "include_colab_link": true
    },
    "kernelspec": {
      "name": "python3",
      "display_name": "Python 3"
    },
    "language_info": {
      "name": "python"
    }
  },
  "cells": [
    {
      "cell_type": "markdown",
      "metadata": {
        "id": "view-in-github",
        "colab_type": "text"
      },
      "source": [
        "<a href=\"https://colab.research.google.com/github/Romane-lrnt/GitConcepts/blob/main/Cours6.ipynb\" target=\"_parent\"><img src=\"https://colab.research.google.com/assets/colab-badge.svg\" alt=\"Open In Colab\"/></a>"
      ]
    },
    {
      "cell_type": "code",
      "execution_count": null,
      "metadata": {
        "colab": {
          "base_uri": "https://localhost:8080/"
        },
        "id": "1O3HLkQ48MQj",
        "outputId": "23522747-ffad-4d9e-8084-f13677e66d70"
      },
      "outputs": [
        {
          "output_type": "stream",
          "name": "stdout",
          "text": [
            "kfhqiuz\n",
            "['vhf', 'gazeop', 'kfhqiuz', 'kfhfi', 'ihfiqzg', 'jhiq', 'jqhio']\n"
          ]
        }
      ],
      "source": [
        "liste=['vhf', 'gazeop', 'kfhqiuz', 'kfhfi', 'ihfiqzg', 'jhiq']\n",
        "print(liste[2])\n",
        "liste.append('jqhio')\n",
        "print(liste)"
      ]
    },
    {
      "cell_type": "code",
      "source": [
        "liste.remove('kfhfi')\n",
        "print(liste)"
      ],
      "metadata": {
        "colab": {
          "base_uri": "https://localhost:8080/"
        },
        "id": "OQ-0nHp0BSkc",
        "outputId": "85973cb4-4101-4fde-f071-39b4066f0141"
      },
      "execution_count": null,
      "outputs": [
        {
          "output_type": "stream",
          "name": "stdout",
          "text": [
            "['vhf', 'gazeop', 'kfhqiuz', 'ihfiqzg', 'jhiq', 'jqhio']\n"
          ]
        }
      ]
    },
    {
      "cell_type": "code",
      "source": [
        "liste[4]='bbzu'\n",
        "print(liste)"
      ],
      "metadata": {
        "colab": {
          "base_uri": "https://localhost:8080/"
        },
        "id": "CnQiCSnLCCNk",
        "outputId": "f39e4a77-f39e-4607-d414-15a5f205d9ef"
      },
      "execution_count": null,
      "outputs": [
        {
          "output_type": "stream",
          "name": "stdout",
          "text": [
            "['vhf', 'gazeop', 'kfhqiuz', 'ihfiqzg', 'bbzu', 'jqhio']\n"
          ]
        }
      ]
    },
    {
      "cell_type": "code",
      "source": [
        "integer=[1,2,3,4]\n",
        "print(integer)\n",
        "smoothoperator=[3.14,7,-2+3j,'water', False,[1,2]]\n",
        "print(smoothoperator)\n",
        "print(len(smoothoperator))\n",
        "print(smoothoperator[5])\n",
        "print(smoothoperator[2:5])\n",
        "print(smoothoperator[ :4])\n",
        "print(smoothoperator[1: ])"
      ],
      "metadata": {
        "colab": {
          "base_uri": "https://localhost:8080/"
        },
        "id": "zBZly1ztFY8S",
        "outputId": "85767b34-c36b-4af8-caed-3311d6ba5d8e"
      },
      "execution_count": null,
      "outputs": [
        {
          "output_type": "stream",
          "name": "stdout",
          "text": [
            "[1, 2, 3, 4]\n",
            "[3.14, 7, (-2+3j), 'water', False, [1, 2]]\n",
            "6\n",
            "[1, 2]\n",
            "[(-2+3j), 'water', False]\n",
            "[3.14, 7, (-2+3j), 'water']\n",
            "[7, (-2+3j), 'water', False, [1, 2]]\n"
          ]
        }
      ]
    },
    {
      "cell_type": "code",
      "source": [
        "smoothoperator=[3.14,7,-2+3j,'water', False,[1,2],5,'Hello','HI','7','e']\n",
        "print(smoothoperator[::2])\n",
        "print(smoothoperator[5] [1]) #writing index item 1 from smoothoperator list[5]\n",
        "print(smoothoperator[3] [4])\n",
        "print(smoothoperator[-2])\n",
        "print(smoothoperator[-4:-2])"
      ],
      "metadata": {
        "colab": {
          "base_uri": "https://localhost:8080/"
        },
        "id": "NYWubul6Hlne",
        "outputId": "2100c8ca-6a25-47c2-9482-277185a3e476"
      },
      "execution_count": null,
      "outputs": [
        {
          "output_type": "stream",
          "name": "stdout",
          "text": [
            "[3.14, (-2+3j), False, 5, 'HI', 'e']\n",
            "2\n",
            "r\n",
            "7\n",
            "['Hello', 'HI']\n"
          ]
        }
      ]
    },
    {
      "cell_type": "code",
      "source": [
        "list=[]\n",
        "k=int(input(\"Enter an integer value: \"))\n",
        "for i in range(1,k+1):\n",
        "  n=1/i\n",
        "  list.append(n)\n",
        "print(\"The sum is {:.2f}\".format(sum(list)))"
      ],
      "metadata": {
        "colab": {
          "base_uri": "https://localhost:8080/"
        },
        "id": "9XdwBVlrMcYE",
        "outputId": "44c84068-1769-4597-c30e-b0739326124b"
      },
      "execution_count": null,
      "outputs": [
        {
          "output_type": "stream",
          "name": "stdout",
          "text": [
            "Enter an integer value: 2\n",
            "The sum is 1.50\n"
          ]
        }
      ]
    },
    {
      "cell_type": "code",
      "source": [
        "print(\"This program will create a list from real numeric data\")\n",
        "nval=int(input(\"Enter the number of values: \"))\n",
        "llnum=[]\n",
        "for i in range(nval):\n",
        "  value=float(input(\"Enter a numeric value: \"))\n",
        "  llnum.append(value)\n",
        "print(llnum)"
      ],
      "metadata": {
        "colab": {
          "base_uri": "https://localhost:8080/"
        },
        "id": "UGv1EHCsTpth",
        "outputId": "a76aeafd-6eec-487d-8271-6b13e58fca77"
      },
      "execution_count": null,
      "outputs": [
        {
          "output_type": "stream",
          "name": "stdout",
          "text": [
            "This program will create a list from real numeric data\n",
            "Enter the number of values: 3\n",
            "Enter a numeric value: 5\n",
            "Enter a numeric value: 7\n",
            "Enter a numeric value: 2\n",
            "[5.0, 7.0, 2.0]\n"
          ]
        }
      ]
    },
    {
      "cell_type": "code",
      "source": [
        "line=\"Temperature is 298.15 K before combustion\"\n",
        "words=line.split(' ')\n",
        "print(words)"
      ],
      "metadata": {
        "colab": {
          "base_uri": "https://localhost:8080/"
        },
        "id": "Nkz8bwgKUR1B",
        "outputId": "a0fd7c7b-feb1-4b82-bcd4-bff9e79c5ec6"
      },
      "execution_count": null,
      "outputs": [
        {
          "output_type": "stream",
          "name": "stdout",
          "text": [
            "['Temperature', 'is', '298.15', 'K', 'before', 'combustion']\n"
          ]
        }
      ]
    },
    {
      "cell_type": "code",
      "source": [
        "line=input(\"Enter, in a single line and SEPARATED BY SPACES, the desired temperature values: \")\n",
        "smooth_txt=line.split()\n",
        "print(\"List is now {}\".format(smooth_txt))\n",
        "temp=[]\n",
        "for element in smooth_txt:\n",
        "  value=float(element)\n",
        "  temp.append(value)\n",
        "print(\"The final list is {}\".format(temp))"
      ],
      "metadata": {
        "colab": {
          "base_uri": "https://localhost:8080/"
        },
        "id": "aAJWglNUU_Ni",
        "outputId": "1948b94c-65f9-4282-ff44-fabbb0a901be"
      },
      "execution_count": null,
      "outputs": [
        {
          "output_type": "stream",
          "name": "stdout",
          "text": [
            "Enter, in a single line and SEPARATED BY SPACES, the desired temperature values: 453 287 456\n",
            "List is now ['453', '287', '456']\n",
            "The final list is [453.0, 287.0, 456.0]\n"
          ]
        }
      ]
    },
    {
      "cell_type": "code",
      "source": [
        "a=[1,3,5,7,11]\n",
        "b=[13,17]\n",
        "c=a+b\n",
        "print(\"First instruction print: {}\".format(c))\n",
        "b[0]=-1\n",
        "d=[]\n",
        "for e in a:\n",
        "  d.append(e+1)\n",
        "print(\"Second instruction print: {}\".format(d))\n",
        "d.append(b[0]+1)\n",
        "d.append(b[-1]+1)\n",
        "print(\"Third instruction print: {}\".format(d))\n",
        "print(\"Fourth instruction print: {}\".format(d[-2:]))\n",
        "print(\"Fifth instruction print: {}\".format(d[:-1]))\n",
        "print(\"Sixth instruction print: {}\".format(d[1:4]))"
      ],
      "metadata": {
        "colab": {
          "base_uri": "https://localhost:8080/"
        },
        "id": "0b-R5_p-Wa7N",
        "outputId": "92d78abd-6f46-409c-d989-611877b56bb0"
      },
      "execution_count": null,
      "outputs": [
        {
          "output_type": "stream",
          "name": "stdout",
          "text": [
            "First instruction print: [1, 3, 5, 7, 11, 13, 17]\n",
            "Second instruction print: [2, 4, 6, 8, 12]\n",
            "Third instruction print: [2, 4, 6, 8, 12, 0, 18]\n",
            "Fourth instruction print: [0, 18]\n",
            "Fifth instruction print: [2, 4, 6, 8, 12, 0]\n",
            "Sixth instruction print: [4, 6, 8]\n"
          ]
        }
      ]
    },
    {
      "cell_type": "code",
      "source": [
        "n=int(input(\"Enter a natural number: \"))\n",
        "thelist=[]\n",
        "for i in range(1,n+1):\n",
        "  thelist.append(i**2)\n",
        "print(thelist)"
      ],
      "metadata": {
        "colab": {
          "base_uri": "https://localhost:8080/"
        },
        "id": "P55c97zVZUHs",
        "outputId": "6f661237-2b6d-4e6e-e413-410913a0a8f5"
      },
      "execution_count": null,
      "outputs": [
        {
          "output_type": "stream",
          "name": "stdout",
          "text": [
            "Enter a natural number: 4\n",
            "[1, 4, 9, 16]\n"
          ]
        }
      ]
    },
    {
      "cell_type": "code",
      "source": [
        "listname=[]\n",
        "listgrades=[]\n",
        "sum=0\n",
        "name=\"name\"\n",
        "while name!=\"\":\n",
        "  name=str(input(\"Enter the name of the student: \"))\n",
        "  if name!=\"\":\n",
        "    listname.append(name)\n",
        "    grade=float(input(\"Enter the grade of the student: \"))\n",
        "    listgrades.append(grade)\n",
        "for e in listgrades:\n",
        "  sum=sum+e\n",
        "moy=sum/len(listgrades)\n",
        "print(\"The mean is {}\".format(moy))\n",
        "for i in range(len(listname)):\n",
        "  print(listname[i],end=\" \")\n",
        "  print(listgrades[i])"
      ],
      "metadata": {
        "colab": {
          "base_uri": "https://localhost:8080/"
        },
        "id": "sWxMpDklbJS0",
        "outputId": "615c9997-d1ef-41cf-c0b5-36301605e92f"
      },
      "execution_count": null,
      "outputs": [
        {
          "output_type": "stream",
          "name": "stdout",
          "text": [
            "Enter the name of the student: a\n",
            "Enter the grade of the student: 10\n",
            "Enter the name of the student: u\n",
            "Enter the grade of the student: 6\n",
            "Enter the name of the student: \n",
            "The mean is 8.0\n",
            "a 10.0\n",
            "u 6.0\n"
          ]
        }
      ]
    }
  ]
}