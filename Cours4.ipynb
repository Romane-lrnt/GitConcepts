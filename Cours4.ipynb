{
  "nbformat": 4,
  "nbformat_minor": 0,
  "metadata": {
    "colab": {
      "provenance": [],
      "authorship_tag": "ABX9TyMieF5aJM5kjw7M5rus6n0c",
      "include_colab_link": true
    },
    "kernelspec": {
      "name": "python3",
      "display_name": "Python 3"
    },
    "language_info": {
      "name": "python"
    }
  },
  "cells": [
    {
      "cell_type": "markdown",
      "metadata": {
        "id": "view-in-github",
        "colab_type": "text"
      },
      "source": [
        "<a href=\"https://colab.research.google.com/github/Romane-lrnt/GitConcepts/blob/main/Cours4.ipynb\" target=\"_parent\"><img src=\"https://colab.research.google.com/assets/colab-badge.svg\" alt=\"Open In Colab\"/></a>"
      ]
    },
    {
      "cell_type": "code",
      "execution_count": null,
      "metadata": {
        "colab": {
          "base_uri": "https://localhost:8080/"
        },
        "id": "s9o2G_uu4pUm",
        "outputId": "8ec7704a-dcc3-4847-f9a9-43d8157c809b"
      },
      "outputs": [
        {
          "output_type": "stream",
          "name": "stdout",
          "text": [
            "Enter an integer value: 5\n",
            "The integer division of 5 by 3 gives: 1\n",
            "Enter an integer value: -4\n",
            "We're done\n"
          ]
        }
      ],
      "source": [
        "num=int(input(\"Enter an integer value: \"))\n",
        "while num>0:\n",
        "  res=num//3\n",
        "  print(\"The integer division of {} by 3 gives: {}\".format(num, res))\n",
        "  num=int(input(\"Enter an integer value: \"))\n",
        "print(\"We're done\")"
      ]
    },
    {
      "cell_type": "code",
      "source": [
        "num=int(input(\"Enter an integer value: \"))\n",
        "ndiv=1 #we initialize the division counter set to zero\n",
        "while ndiv<num:\n",
        "  res=num//ndiv\n",
        "  print(\"The integer division of {} by {} gives: {}\".format(num, ndiv, res))\n",
        "  ndiv=ndiv+1 #increase the value of the divisor counter made a unit\n",
        "print(\"We're done\")\n",
        "print(\"Total number of divisions: {}\".format(ndiv))"
      ],
      "metadata": {
        "colab": {
          "base_uri": "https://localhost:8080/"
        },
        "id": "rTozDYmo8hul",
        "outputId": "08a38b63-bb8f-4bbf-bbe8-4ad856967390"
      },
      "execution_count": null,
      "outputs": [
        {
          "output_type": "stream",
          "name": "stdout",
          "text": [
            "Enter an integer value: 10\n",
            "The integer division of 10 by 1 gives: 10\n",
            "The integer division of 10 by 2 gives: 5\n",
            "The integer division of 10 by 3 gives: 3\n",
            "The integer division of 10 by 4 gives: 2\n",
            "The integer division of 10 by 5 gives: 2\n",
            "The integer division of 10 by 6 gives: 1\n",
            "The integer division of 10 by 7 gives: 1\n",
            "The integer division of 10 by 8 gives: 1\n",
            "The integer division of 10 by 9 gives: 1\n",
            "We're done\n",
            "Total number of divisions: 10\n"
          ]
        }
      ]
    },
    {
      "cell_type": "code",
      "source": [
        "num=int(input(\"Enter an integer value: \"))\n",
        "ndiv=0 #let's initialize the counter to zero\n",
        "while num>0:\n",
        "  res=num//3\n",
        "  print(\"The integer division of {} by 3 gives: {}\".format(num, res))\n",
        "  ndiv=ndiv+1 #increase the value of the divisor counter made a unit\n",
        "  print(\"Number of divisions so far: {}\".format(ndiv))\n",
        "  num=int(input(\"Enter an integer value: \"))\n",
        "print(\"We're done\")\n",
        "print(\"Total number of iterations: {}\".format(ndiv))"
      ],
      "metadata": {
        "colab": {
          "base_uri": "https://localhost:8080/"
        },
        "id": "lGD27dLi_Sjm",
        "outputId": "e1eb8da8-bf2b-43de-886e-0ae83a6cab47"
      },
      "execution_count": null,
      "outputs": [
        {
          "output_type": "stream",
          "name": "stdout",
          "text": [
            "Enter an integer value: 56\n",
            "The integer division of 56 by 3 gives: 18\n",
            "Number of divisions so far: 1\n",
            "Enter an integer value: 23\n",
            "The integer division of 23 by 3 gives: 7\n",
            "Number of divisions so far: 2\n",
            "Enter an integer value: 45\n",
            "The integer division of 45 by 3 gives: 15\n",
            "Number of divisions so far: 3\n",
            "Enter an integer value: -5\n",
            "We're done\n",
            "Total number of iterations: 3\n"
          ]
        }
      ]
    },
    {
      "cell_type": "code",
      "source": [
        "count=0\n",
        "for i in range(0,212):\n",
        "  if i%3==0:\n",
        "    count=count+1\n",
        "print(\"There are {} numbers divisible by 3 between 0 and 211\".format(count))"
      ],
      "metadata": {
        "colab": {
          "base_uri": "https://localhost:8080/"
        },
        "id": "c_LoiF34A5Pm",
        "outputId": "88161412-eb15-4a46-d1ff-4a101432f1d2"
      },
      "execution_count": null,
      "outputs": [
        {
          "output_type": "stream",
          "name": "stdout",
          "text": [
            "There are 71 numbers divisible by 3 between 0 and 211\n"
          ]
        }
      ]
    },
    {
      "cell_type": "code",
      "source": [
        "num=1\n",
        "ndiv=0\n",
        "while num>0 and num<211:\n",
        "  if num%3==0:\n",
        "    print(f\"The number is {num}\")\n",
        "    ndiv=ndiv+1\n",
        "  num=num+1\n",
        "print(\"Total number of iterations: {}\".format(ndiv))\n",
        "print(\"We're done\")"
      ],
      "metadata": {
        "colab": {
          "base_uri": "https://localhost:8080/"
        },
        "id": "GjatqDRYE7Gn",
        "outputId": "96082a2d-3cbc-4861-896a-a88c802029a9"
      },
      "execution_count": null,
      "outputs": [
        {
          "output_type": "stream",
          "name": "stdout",
          "text": [
            "The number is 3\n",
            "The number is 6\n",
            "The number is 9\n",
            "The number is 12\n",
            "The number is 15\n",
            "The number is 18\n",
            "The number is 21\n",
            "The number is 24\n",
            "The number is 27\n",
            "The number is 30\n",
            "The number is 33\n",
            "The number is 36\n",
            "The number is 39\n",
            "The number is 42\n",
            "The number is 45\n",
            "The number is 48\n",
            "The number is 51\n",
            "The number is 54\n",
            "The number is 57\n",
            "The number is 60\n",
            "The number is 63\n",
            "The number is 66\n",
            "The number is 69\n",
            "The number is 72\n",
            "The number is 75\n",
            "The number is 78\n",
            "The number is 81\n",
            "The number is 84\n",
            "The number is 87\n",
            "The number is 90\n",
            "The number is 93\n",
            "The number is 96\n",
            "The number is 99\n",
            "The number is 102\n",
            "The number is 105\n",
            "The number is 108\n",
            "The number is 111\n",
            "The number is 114\n",
            "The number is 117\n",
            "The number is 120\n",
            "The number is 123\n",
            "The number is 126\n",
            "The number is 129\n",
            "The number is 132\n",
            "The number is 135\n",
            "The number is 138\n",
            "The number is 141\n",
            "The number is 144\n",
            "The number is 147\n",
            "The number is 150\n",
            "The number is 153\n",
            "The number is 156\n",
            "The number is 159\n",
            "The number is 162\n",
            "The number is 165\n",
            "The number is 168\n",
            "The number is 171\n",
            "The number is 174\n",
            "The number is 177\n",
            "The number is 180\n",
            "The number is 183\n",
            "The number is 186\n",
            "The number is 189\n",
            "The number is 192\n",
            "The number is 195\n",
            "The number is 198\n",
            "The number is 201\n",
            "The number is 204\n",
            "The number is 207\n",
            "The number is 210\n",
            "Total number of iterations: 70\n",
            "We're done\n"
          ]
        }
      ]
    },
    {
      "cell_type": "code",
      "source": [
        "num=1\n",
        "sum=0\n",
        "while num<11:\n",
        "  sum=sum+num\n",
        "  num=num+1\n",
        "print(\"The sum of the first 10 natural numbers is {}\".format(sum))"
      ],
      "metadata": {
        "colab": {
          "base_uri": "https://localhost:8080/"
        },
        "id": "sj2tNfNvG5MB",
        "outputId": "ef9e055f-1433-4533-a45b-4948c845f8b3"
      },
      "execution_count": null,
      "outputs": [
        {
          "output_type": "stream",
          "name": "stdout",
          "text": [
            "The sum of the first 10 natural numbers is 55\n"
          ]
        }
      ]
    },
    {
      "cell_type": "code",
      "source": [
        "count=0\n",
        "moy=0\n",
        "while count<10:\n",
        "  num=int(input(\"Enter an integer value: \"))\n",
        "  moy=moy+num\n",
        "  count=count+1\n",
        "moy=moy/10\n",
        "print(\"The average value is {}\".format(moy))"
      ],
      "metadata": {
        "colab": {
          "base_uri": "https://localhost:8080/"
        },
        "id": "dVkX-ZJQH02f",
        "outputId": "0fda840d-16f7-4aba-945b-2df5dbd0928b"
      },
      "execution_count": null,
      "outputs": [
        {
          "output_type": "stream",
          "name": "stdout",
          "text": [
            "Enter an integer value: 3\n",
            "Enter an integer value: 67\n",
            "Enter an integer value: 4\n",
            "Enter an integer value: 8\n",
            "Enter an integer value: 2\n",
            "Enter an integer value: 9\n",
            "Enter an integer value: 12\n",
            "Enter an integer value: 21\n",
            "Enter an integer value: 5\n",
            "Enter an integer value: 7\n",
            "The average value is 13.8\n"
          ]
        }
      ]
    },
    {
      "cell_type": "code",
      "source": [
        "str=\"*\"\n",
        "for i in range(0,4):\n",
        "  print(str+i*\"*\")"
      ],
      "metadata": {
        "colab": {
          "base_uri": "https://localhost:8080/"
        },
        "id": "fsGSeYTYKB11",
        "outputId": "a8959a8e-2490-4f28-b151-f0355021e286"
      },
      "execution_count": null,
      "outputs": [
        {
          "output_type": "stream",
          "name": "stdout",
          "text": [
            "*\n",
            "**\n",
            "***\n",
            "****\n"
          ]
        }
      ]
    },
    {
      "cell_type": "code",
      "source": [
        "n=int(input(\"Enter an integer value: \"))\n",
        "f=n\n",
        "r=1\n",
        "while f!=0:\n",
        "  r*=f\n",
        "  f-=1\n",
        "print(\"Factorial of\", n, \"is:\", r)"
      ],
      "metadata": {
        "colab": {
          "base_uri": "https://localhost:8080/"
        },
        "id": "Tq7dotSKPSsH",
        "outputId": "6e380edf-136f-4d5a-fd10-71c79bedb6f3"
      },
      "execution_count": null,
      "outputs": [
        {
          "output_type": "stream",
          "name": "stdout",
          "text": [
            "Enter an integer value: 6\n",
            "Factorial of 6 is: 720\n"
          ]
        }
      ]
    },
    {
      "cell_type": "code",
      "source": [
        "name=\"Jesaa29Roy\"\n",
        "size=len(name)\n",
        "i=0\n",
        "#iterate the loop till teh last character\n",
        "while i<size:\n",
        "  #break loop if current character is a number\n",
        "  if name[i].isdecimal():\n",
        "    break;\n",
        "  #print current character\n",
        "  print(name[i], end=' ')\n",
        "  i=i+1\n",
        "print(\"\\nThe execution has stopped.\")"
      ],
      "metadata": {
        "colab": {
          "base_uri": "https://localhost:8080/"
        },
        "id": "vW1YwSaCRp69",
        "outputId": "7731eada-5884-43c7-ebc0-eccca75736df"
      },
      "execution_count": null,
      "outputs": [
        {
          "output_type": "stream",
          "name": "stdout",
          "text": [
            "J e s a a \n",
            "The execution has stopped.\n"
          ]
        }
      ]
    },
    {
      "cell_type": "code",
      "source": [
        "name=\"Jesaa29Roy\"\n",
        "size=len(name)\n",
        "i=-1\n",
        "#iterate the loop till the last character\n",
        "while i<size-1:\n",
        "  i=i+1\n",
        "  #skip while loop body if current character is not alphabet\n",
        "  if not name[i].isalpha():\n",
        "    continue\n",
        "    #print current character\n",
        "  print(name[i], end=' ')"
      ],
      "metadata": {
        "colab": {
          "base_uri": "https://localhost:8080/"
        },
        "id": "lEwcrwwLTvn-",
        "outputId": "192fb75b-c77b-4e62-c399-5b32dae7acfb"
      },
      "execution_count": null,
      "outputs": [
        {
          "output_type": "stream",
          "name": "stdout",
          "text": [
            "J e s a a R o y "
          ]
        }
      ]
    },
    {
      "cell_type": "code",
      "source": [
        "name=\"Jesaa29Roy\"\n",
        "size=len(name)\n",
        "i=-1\n",
        "#iterate the loop till the last character\n",
        "while i<size-1:\n",
        "  i=i+1\n",
        "  #skip while loop body if current character is not alphabet\n",
        "  if not name[i].isdecimal():\n",
        "    continue\n",
        "    #print current character\n",
        "  print(name[i], end=' ')"
      ],
      "metadata": {
        "colab": {
          "base_uri": "https://localhost:8080/"
        },
        "id": "_0gyRv4KV9v5",
        "outputId": "34501ee6-e4d3-4f94-cfd0-8c83ce4324ea"
      },
      "execution_count": null,
      "outputs": [
        {
          "output_type": "stream",
          "name": "stdout",
          "text": [
            "2 9 "
          ]
        }
      ]
    },
    {
      "cell_type": "code",
      "source": [
        "for i in range(3):\n",
        "  print(\"Value of i: {}\".format(i))"
      ],
      "metadata": {
        "colab": {
          "base_uri": "https://localhost:8080/"
        },
        "id": "B8Tc8nmtWjry",
        "outputId": "12cb2f72-182f-49f3-e171-350afaec163b"
      },
      "execution_count": null,
      "outputs": [
        {
          "output_type": "stream",
          "name": "stdout",
          "text": [
            "Value of i: 0\n",
            "Value of i: 1\n",
            "Value of i: 2\n"
          ]
        }
      ]
    },
    {
      "cell_type": "code",
      "source": [
        "n=int(input(\"Enter the value of n: \"))\n",
        "for i in range(n):\n",
        "  q_i=i**2\n",
        "  print(q_i)"
      ],
      "metadata": {
        "colab": {
          "base_uri": "https://localhost:8080/"
        },
        "id": "b9sWj-nuW6sl",
        "outputId": "8e9af29d-4f29-4ced-de73-2b86e0794d77"
      },
      "execution_count": null,
      "outputs": [
        {
          "output_type": "stream",
          "name": "stdout",
          "text": [
            "Enter the value of n: 6\n",
            "0\n",
            "1\n",
            "4\n",
            "9\n",
            "16\n",
            "25\n"
          ]
        }
      ]
    }
  ]
}