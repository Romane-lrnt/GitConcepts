{
  "nbformat": 4,
  "nbformat_minor": 0,
  "metadata": {
    "colab": {
      "provenance": [],
      "authorship_tag": "ABX9TyMR7moF0HidEGSUij7zVySy",
      "include_colab_link": true
    },
    "kernelspec": {
      "name": "python3",
      "display_name": "Python 3"
    },
    "language_info": {
      "name": "python"
    }
  },
  "cells": [
    {
      "cell_type": "markdown",
      "metadata": {
        "id": "view-in-github",
        "colab_type": "text"
      },
      "source": [
        "<a href=\"https://colab.research.google.com/github/Romane-lrnt/GitConcepts/blob/main/Numpy_problems_2.ipynb\" target=\"_parent\"><img src=\"https://colab.research.google.com/assets/colab-badge.svg\" alt=\"Open In Colab\"/></a>"
      ]
    },
    {
      "cell_type": "markdown",
      "source": [
        "Write a NumPy program to create a vector with values from 0 to 20 and change the sign of the numbers in the range from 9 to 15."
      ],
      "metadata": {
        "id": "Cpe1QheHWVpB"
      }
    },
    {
      "cell_type": "code",
      "source": [
        "import numpy as np\n",
        "vector = np.arange(21)\n",
        "vector[9:16] *= -1\n",
        "print(vector)"
      ],
      "metadata": {
        "colab": {
          "base_uri": "https://localhost:8080/"
        },
        "id": "zx6PACATWY6B",
        "outputId": "48e27d86-feda-4f9c-9d30-df59be1800dc"
      },
      "execution_count": 1,
      "outputs": [
        {
          "output_type": "stream",
          "name": "stdout",
          "text": [
            "[  0   1   2   3   4   5   6   7   8  -9 -10 -11 -12 -13 -14 -15  16  17\n",
            "  18  19  20]\n"
          ]
        }
      ]
    },
    {
      "cell_type": "markdown",
      "source": [
        "Write a NumPy program to create a vector with values ranging from 15 to 55 and print all values except the first and last."
      ],
      "metadata": {
        "id": "1GeEDvagWoa3"
      }
    },
    {
      "cell_type": "code",
      "source": [
        "vector = np.arange(15, 56)\n",
        "print(vector[1:-1])"
      ],
      "metadata": {
        "colab": {
          "base_uri": "https://localhost:8080/"
        },
        "id": "7N9MckM2WrPl",
        "outputId": "4cc1e9e9-16a6-42b8-d626-e8b003e535c5"
      },
      "execution_count": 2,
      "outputs": [
        {
          "output_type": "stream",
          "name": "stdout",
          "text": [
            "[16 17 18 19 20 21 22 23 24 25 26 27 28 29 30 31 32 33 34 35 36 37 38 39\n",
            " 40 41 42 43 44 45 46 47 48 49 50 51 52 53 54]\n"
          ]
        }
      ]
    },
    {
      "cell_type": "markdown",
      "source": [
        "Write a NumPy program to create a 3X4 array and iterate over it."
      ],
      "metadata": {
        "id": "ffasEu0AW1O3"
      }
    },
    {
      "cell_type": "code",
      "source": [
        "array = np.random.randint(-10,10,size=(3,4))\n",
        "for row in array:\n",
        "    for element in row:\n",
        "        print(element, end=' ')\n",
        "    print()"
      ],
      "metadata": {
        "colab": {
          "base_uri": "https://localhost:8080/"
        },
        "id": "1U9rTFRUW4NK",
        "outputId": "d0681c64-1713-4394-bd76-f311aa9f198f"
      },
      "execution_count": 3,
      "outputs": [
        {
          "output_type": "stream",
          "name": "stdout",
          "text": [
            "-7 8 8 5 \n",
            "8 -10 6 -7 \n",
            "8 4 0 -6 \n"
          ]
        }
      ]
    },
    {
      "cell_type": "markdown",
      "source": [
        "Write a NumPy program to create a vector of length 10 with values evenly distributed between 5 and 50."
      ],
      "metadata": {
        "id": "1_SNVhogXrCz"
      }
    },
    {
      "cell_type": "code",
      "source": [
        "vector = np.linspace(5, 50, 10)\n",
        "print(vector)"
      ],
      "metadata": {
        "colab": {
          "base_uri": "https://localhost:8080/"
        },
        "id": "F53Vu64mXto0",
        "outputId": "6df85369-aab7-4bd9-8b0a-d98ff6ff94d6"
      },
      "execution_count": 4,
      "outputs": [
        {
          "output_type": "stream",
          "name": "stdout",
          "text": [
            "[ 5. 10. 15. 20. 25. 30. 35. 40. 45. 50.]\n"
          ]
        }
      ]
    },
    {
      "cell_type": "markdown",
      "source": [
        "Write a NumPy program to create a vector of length 5 filled with arbitrary integers from 0 to 10."
      ],
      "metadata": {
        "id": "-lu7MXgCX0ws"
      }
    },
    {
      "cell_type": "code",
      "source": [
        "vector = np.random.randint(0, 11, size=5)\n",
        "print(vector)"
      ],
      "metadata": {
        "colab": {
          "base_uri": "https://localhost:8080/"
        },
        "id": "K6ZLhraMX3Y9",
        "outputId": "a3e01774-6da9-4a20-b240-d6ded4fc5dfb"
      },
      "execution_count": 5,
      "outputs": [
        {
          "output_type": "stream",
          "name": "stdout",
          "text": [
            "[9 9 0 0 2]\n"
          ]
        }
      ]
    },
    {
      "cell_type": "markdown",
      "source": [
        "Write a NumPy program to multiply the values of two given vectors."
      ],
      "metadata": {
        "id": "CazB02ogX9f-"
      }
    },
    {
      "cell_type": "code",
      "source": [
        "vector1 = np.array([1, 2, 3, 4])\n",
        "vector2 = np.array([5, 6, 7, 8])\n",
        "result = vector1 * vector2\n",
        "print(\"Vector 1:\", vector1)\n",
        "print(\"Vector 2:\", vector2)\n",
        "print(\"Result of multiplication:\", result)"
      ],
      "metadata": {
        "colab": {
          "base_uri": "https://localhost:8080/"
        },
        "id": "f3Mo75SzX_mA",
        "outputId": "cf0d51e9-33d6-49f3-db94-c09c5b83c414"
      },
      "execution_count": 6,
      "outputs": [
        {
          "output_type": "stream",
          "name": "stdout",
          "text": [
            "Vector 1: [1 2 3 4]\n",
            "Vector 2: [5 6 7 8]\n",
            "Result of multiplication: [ 5 12 21 32]\n"
          ]
        }
      ]
    },
    {
      "cell_type": "markdown",
      "source": [
        "Write a NumPy program to create a 3x4 matrix filled with values from 10 to 21."
      ],
      "metadata": {
        "id": "A2nrMvIqYILD"
      }
    },
    {
      "cell_type": "code",
      "source": [
        "matrice = np.arange(10, 22).reshape(3, 4)\n",
        "print(matrice)"
      ],
      "metadata": {
        "colab": {
          "base_uri": "https://localhost:8080/"
        },
        "id": "er-tcbAlYKKU",
        "outputId": "f6316f79-a9d7-4962-d8c1-2141cb2f8e54"
      },
      "execution_count": 7,
      "outputs": [
        {
          "output_type": "stream",
          "name": "stdout",
          "text": [
            "[[10 11 12 13]\n",
            " [14 15 16 17]\n",
            " [18 19 20 21]]\n"
          ]
        }
      ]
    },
    {
      "cell_type": "markdown",
      "source": [
        "Write a NumPy program to find the number of rows and columns in a given matrix."
      ],
      "metadata": {
        "id": "1LXXo-_jYSf1"
      }
    },
    {
      "cell_type": "code",
      "source": [
        "matrix = np.array([[1, 2, 3],\n",
        "                  [4, 5, 6],\n",
        "                  [7, 8, 9]])\n",
        "num_rows, num_columns = matrix.shape\n",
        "print(\"Number of rows:\", num_rows)\n",
        "print(\"Number of columns:\", num_columns)"
      ],
      "metadata": {
        "colab": {
          "base_uri": "https://localhost:8080/"
        },
        "id": "feJXF31TYUpF",
        "outputId": "6b808df9-5b0d-419b-90f0-6c3894c5a034"
      },
      "execution_count": 8,
      "outputs": [
        {
          "output_type": "stream",
          "name": "stdout",
          "text": [
            "Number of rows: 3\n",
            "Number of columns: 3\n"
          ]
        }
      ]
    },
    {
      "cell_type": "markdown",
      "source": [
        "Write a NumPy program to create a 4x4 matrix in which 0 and 1 are staggered, with zeros on the main diagonal."
      ],
      "metadata": {
        "id": "OfH8gzuFYfLC"
      }
    },
    {
      "cell_type": "code",
      "source": [
        "matrix = np.zeros((4, 4), dtype=int)\n",
        "matrix[1::2, ::2] = 1\n",
        "matrix[::2, 1::2] = 1\n",
        "print(matrix)"
      ],
      "metadata": {
        "colab": {
          "base_uri": "https://localhost:8080/"
        },
        "id": "s5Uuo9iwYhBI",
        "outputId": "bd30faa7-25a5-4cdf-a67a-10b92396d92e"
      },
      "execution_count": 9,
      "outputs": [
        {
          "output_type": "stream",
          "name": "stdout",
          "text": [
            "[[0 1 0 1]\n",
            " [1 0 1 0]\n",
            " [0 1 0 1]\n",
            " [1 0 1 0]]\n"
          ]
        }
      ]
    },
    {
      "cell_type": "markdown",
      "source": [
        "Write a NumPy program to find common values between two arrays.\n",
        "Expected Output:\n",
        "Array1: [ 0 10 20 40 60]\n",
        "Array2: [10, 30, 40]\n",
        "Common values between two arrays:\n",
        "[10 40]"
      ],
      "metadata": {
        "id": "Ok89lU02Yv3T"
      }
    },
    {
      "cell_type": "code",
      "source": [
        "array1 = np.array([0, 10, 20, 40, 60])\n",
        "array2 = np.array([10, 30, 40])\n",
        "print(\"Array1:\", array1)\n",
        "print(\"Array2:\", array2)\n",
        "common_values = np.intersect1d(array1, array2)\n",
        "print(\"Common values between two arrays:\")\n",
        "print(common_values)"
      ],
      "metadata": {
        "colab": {
          "base_uri": "https://localhost:8080/"
        },
        "id": "Yk_dqiNEY1TM",
        "outputId": "97a64536-eb20-405c-d9d7-ffa2917676fa"
      },
      "execution_count": 10,
      "outputs": [
        {
          "output_type": "stream",
          "name": "stdout",
          "text": [
            "Array1: [ 0 10 20 40 60]\n",
            "Array2: [10 30 40]\n",
            "Common values between two arrays:\n",
            "[10 40]\n"
          ]
        }
      ]
    },
    {
      "cell_type": "markdown",
      "source": [
        "Write a NumPy program to get the unique elements of an array.\n",
        "Expected Output:\n",
        "Original array:\n",
        "[10 10 20 20 30 30]\n",
        "Unique elements of the above array:\n",
        "[10 20 30]\n",
        "Original array:\n",
        "[[1 1]\n",
        "[2 3]]\n",
        "Unique elements of the above array:\n",
        "[1 2 3]"
      ],
      "metadata": {
        "id": "oFUOaaRGZMZV"
      }
    },
    {
      "cell_type": "code",
      "source": [
        "array1d = np.array([10, 10, 20, 20, 30, 30])\n",
        "print(\"Original array:\")\n",
        "print(array1d)\n",
        "unique_elements_1d = np.unique(array1d)\n",
        "print(\"Unique elements of the above array:\")\n",
        "print(unique_elements_1d)\n",
        "array2d = np.array([[1, 1], [2, 3]])\n",
        "print(\"Original array:\")\n",
        "print(array2d)\n",
        "unique_elements_2d = np.unique(array2d)\n",
        "print(\"Unique elements of the above array:\")\n",
        "print(unique_elements_2d)"
      ],
      "metadata": {
        "colab": {
          "base_uri": "https://localhost:8080/"
        },
        "id": "zfkdiygeZPmP",
        "outputId": "274a3155-9509-4b04-9a2c-6eb036534cbb"
      },
      "execution_count": 11,
      "outputs": [
        {
          "output_type": "stream",
          "name": "stdout",
          "text": [
            "Original array:\n",
            "[10 10 20 20 30 30]\n",
            "Unique elements of the above array:\n",
            "[10 20 30]\n",
            "Original array:\n",
            "[[1 1]\n",
            " [2 3]]\n",
            "Unique elements of the above array:\n",
            "[1 2 3]\n"
          ]
        }
      ]
    },
    {
      "cell_type": "markdown",
      "source": [
        "Write a NumPy program to compute the cross product of two given vectors."
      ],
      "metadata": {
        "id": "JSDUvEDNZhMk"
      }
    },
    {
      "cell_type": "code",
      "source": [
        "vector1 = np.array([1, 2, 3])\n",
        "vector2 = np.array([4, 5, 6])\n",
        "cross_product = np.cross(vector1, vector2)\n",
        "print(\"Vector 1:\", vector1)\n",
        "print(\"Vector 2:\", vector2)\n",
        "print(\"Cross Product:\", cross_product)"
      ],
      "metadata": {
        "colab": {
          "base_uri": "https://localhost:8080/"
        },
        "id": "bq8v259xZkdX",
        "outputId": "f0ee0744-5943-4a8e-dc10-0d2b4d54390f"
      },
      "execution_count": 12,
      "outputs": [
        {
          "output_type": "stream",
          "name": "stdout",
          "text": [
            "Vector 1: [1 2 3]\n",
            "Vector 2: [4 5 6]\n",
            "Cross Product: [-3  6 -3]\n"
          ]
        }
      ]
    },
    {
      "cell_type": "markdown",
      "source": [
        "Write a NumPy program to convert cartesian coordinates to polar coordinates of a random 10x2 matrix representing cartesian coordinates.\n",
        "Expected Output:\n",
        "[ 0.89225122 0.68774813 0.20392039 1.22093243 1.24435921 1.00358852\n",
        "0.37378547 0.8534585 0.31999648 0.567451 ]\n",
        "[ 1.02751197 1.26964967 0.02567519 0.85386412 0.73152767 0.45822494\n",
        "1.50634505 1.47389983 0.80818521 0.33001182]"
      ],
      "metadata": {
        "id": "PQ6N57BcZy7J"
      }
    },
    {
      "cell_type": "code",
      "source": [
        "cartesian_matrix = np.random.rand(10, 2)\n",
        "x = cartesian_matrix[:, 0]\n",
        "y = cartesian_matrix[:, 1]\n",
        "r = np.sqrt(x**2 + y**2)\n",
        "theta = np.arctan2(y, x)\n",
        "theta_degrees = np.degrees(theta)\n",
        "print(\"Cartesian Coordinates:\")\n",
        "print(cartesian_matrix)\n",
        "print(\"\\nRadius (r):\")\n",
        "print(r)\n",
        "print(\"\\nAngle (theta) in radians:\")\n",
        "print(theta)\n",
        "print(\"\\nAngle (theta) in degrees:\")\n",
        "print(theta_degrees)"
      ],
      "metadata": {
        "colab": {
          "base_uri": "https://localhost:8080/"
        },
        "id": "M1E1rxIhZ1kK",
        "outputId": "4a4de304-9a48-4b22-c4e8-272c6de8edf3"
      },
      "execution_count": 13,
      "outputs": [
        {
          "output_type": "stream",
          "name": "stdout",
          "text": [
            "Cartesian Coordinates:\n",
            "[[0.16323641 0.30331403]\n",
            " [0.59993949 0.68684165]\n",
            " [0.17441998 0.47672641]\n",
            " [0.17348411 0.78362475]\n",
            " [0.38299041 0.24722569]\n",
            " [0.99208973 0.02612534]\n",
            " [0.95930516 0.79815558]\n",
            " [0.48832211 0.71539868]\n",
            " [0.84917926 0.8267677 ]\n",
            " [0.76641167 0.06057211]]\n",
            "\n",
            "Radius (r):\n",
            "[0.3444496  0.91196428 0.50763215 0.80259858 0.45585326 0.99243366\n",
            " 1.24792576 0.8661719  1.18517941 0.76880156]\n",
            "\n",
            "Angle (theta) in radians:\n",
            "[1.07707614 0.8528303  1.2200538  1.35292371 0.57321519 0.02632756\n",
            " 0.6939593  0.97185253 0.77202649 0.07886944]\n",
            "\n",
            "Angle (theta) in degrees:\n",
            "[61.71191708 48.86357685 69.90393373 77.51681831 32.84281122  1.50845829\n",
            " 39.76093927 55.68304856 44.23385938  4.51888614]\n"
          ]
        }
      ]
    },
    {
      "cell_type": "markdown",
      "source": [
        "Write a NumPy program to find the closest value (to a given scalar) in an array.\n",
        "Original array:\n",
        "[ 0 1 2 3 4 5 6 7 8 9 10 11 12 13 14 15 16 17 18 19 20 21 22 23 24\n",
        "25 26 27 28 29 30 31 32 33 34 35 36 37 38 39 40 41 42 43 44 45 46 47 48 49\n",
        "50 51 52 53 54 55 56 57 58 59 60 61 62 63 64 65 66 67 68 69 70 71 72 73 74\n",
        "75 76 77 78 79 80 81 82 83 84 85 86 87 88 89 90 91 92 93 94 95 96 97 98 99]\n",
        "Value to compare:\n",
        "34.99062268928913\n",
        "35"
      ],
      "metadata": {
        "id": "dC2pDzOjaGmE"
      }
    },
    {
      "cell_type": "code",
      "source": [
        "original_array = np.arange(100)\n",
        "value_to_compare = 34.99062268928913\n",
        "closest_value = original_array[np.argmin(np.abs(original_array - value_to_compare))]\n",
        "print(\"Original array:\")\n",
        "print(original_array)\n",
        "print(\"Value to compare:\")\n",
        "print(value_to_compare)\n",
        "print(\"Closest value:\")\n",
        "print(closest_value)"
      ],
      "metadata": {
        "colab": {
          "base_uri": "https://localhost:8080/"
        },
        "id": "bN2MoK_uaL0k",
        "outputId": "6b175561-6f4c-4de3-b204-515cb247b92d"
      },
      "execution_count": 14,
      "outputs": [
        {
          "output_type": "stream",
          "name": "stdout",
          "text": [
            "Original array:\n",
            "[ 0  1  2  3  4  5  6  7  8  9 10 11 12 13 14 15 16 17 18 19 20 21 22 23\n",
            " 24 25 26 27 28 29 30 31 32 33 34 35 36 37 38 39 40 41 42 43 44 45 46 47\n",
            " 48 49 50 51 52 53 54 55 56 57 58 59 60 61 62 63 64 65 66 67 68 69 70 71\n",
            " 72 73 74 75 76 77 78 79 80 81 82 83 84 85 86 87 88 89 90 91 92 93 94 95\n",
            " 96 97 98 99]\n",
            "Value to compare:\n",
            "34.99062268928913\n",
            "Closest value:\n",
            "35\n"
          ]
        }
      ]
    }
  ]
}