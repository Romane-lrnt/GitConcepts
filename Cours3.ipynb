{
  "nbformat": 4,
  "nbformat_minor": 0,
  "metadata": {
    "colab": {
      "provenance": [],
      "authorship_tag": "ABX9TyNdqiQPIs1YQVttH0xthSuU",
      "include_colab_link": true
    },
    "kernelspec": {
      "name": "python3",
      "display_name": "Python 3"
    },
    "language_info": {
      "name": "python"
    }
  },
  "cells": [
    {
      "cell_type": "markdown",
      "metadata": {
        "id": "view-in-github",
        "colab_type": "text"
      },
      "source": [
        "<a href=\"https://colab.research.google.com/github/Romane-lrnt/GitConcepts/blob/main/Cours3.ipynb\" target=\"_parent\"><img src=\"https://colab.research.google.com/assets/colab-badge.svg\" alt=\"Open In Colab\"/></a>"
      ]
    },
    {
      "cell_type": "code",
      "execution_count": null,
      "metadata": {
        "colab": {
          "base_uri": "https://localhost:8080/"
        },
        "id": "K7xESEYmQyCe",
        "outputId": "1fc8716a-b199-4d3e-a220-507dee318636"
      },
      "outputs": [
        {
          "output_type": "stream",
          "name": "stdout",
          "text": [
            "12\n",
            "m\n",
            "goo\n",
            "ning\n",
            "i\n",
            "good mornin\n",
            "GOOD MORNING\n",
            "3\n",
            "5\n",
            "good afternoon\n",
            "['__add__', '__class__', '__contains__', '__delattr__', '__dir__', '__doc__', '__eq__', '__format__', '__ge__', '__getattribute__', '__getitem__', '__getnewargs__', '__gt__', '__hash__', '__init__', '__init_subclass__', '__iter__', '__le__', '__len__', '__lt__', '__mod__', '__mul__', '__ne__', '__new__', '__reduce__', '__reduce_ex__', '__repr__', '__rmod__', '__rmul__', '__setattr__', '__sizeof__', '__str__', '__subclasshook__', 'capitalize', 'casefold', 'center', 'count', 'encode', 'endswith', 'expandtabs', 'find', 'format', 'format_map', 'index', 'isalnum', 'isalpha', 'isascii', 'isdecimal', 'isdigit', 'isidentifier', 'islower', 'isnumeric', 'isprintable', 'isspace', 'istitle', 'isupper', 'join', 'ljust', 'lower', 'lstrip', 'maketrans', 'partition', 'removeprefix', 'removesuffix', 'replace', 'rfind', 'rindex', 'rjust', 'rpartition', 'rsplit', 'rstrip', 'split', 'splitlines', 'startswith', 'strip', 'swapcase', 'title', 'translate', 'upper', 'zfill']\n"
          ]
        }
      ],
      "source": [
        "message='good morning'\n",
        "print(len(message))\n",
        "print(message[5])\n",
        "print(message[0:3])\n",
        "print(message[8: ])\n",
        "print(message[-3])\n",
        "print(message[ :-1])\n",
        "print(message.upper())\n",
        "print(message.count('o'))\n",
        "print(message.find('m'))\n",
        "new_message=message.replace('morning', 'afternoon')\n",
        "print(new_message)\n",
        "print(dir(str))"
      ]
    },
    {
      "cell_type": "code",
      "source": [
        "num=input('Enter an integer: ')\n",
        "num=int(num)\n",
        "if num<5:\n",
        "  print(\"It's less than five.\")\n",
        "else:\n",
        "  print(\"It's greater than or equal to five.\")"
      ],
      "metadata": {
        "colab": {
          "base_uri": "https://localhost:8080/"
        },
        "id": "MBufs6oDWD1f",
        "outputId": "0223d65b-68d0-44c3-aacb-d1c6f0cfd570"
      },
      "execution_count": null,
      "outputs": [
        {
          "output_type": "stream",
          "name": "stdout",
          "text": [
            "Enter an integer: 6\n",
            "It's greater than or equal to five.\n"
          ]
        }
      ]
    },
    {
      "cell_type": "code",
      "source": [
        "if num%2==0:\n",
        "  print(f'{num} is even')\n",
        "else:\n",
        "  print('odd')"
      ],
      "metadata": {
        "colab": {
          "base_uri": "https://localhost:8080/"
        },
        "id": "tXRpUycZX5dF",
        "outputId": "744a1c2f-814e-4b18-9983-59c3e1a2610c"
      },
      "execution_count": null,
      "outputs": [
        {
          "output_type": "stream",
          "name": "stdout",
          "text": [
            "6 is even\n"
          ]
        }
      ]
    },
    {
      "cell_type": "code",
      "source": [
        "marks=float(input('Enter your mark: '))\n",
        "if marks<40:\n",
        "  print(\"The student has failed and got an F grade.\")\n",
        "elif marks>=40 and marks<50:\n",
        "  print('The student has passed marginaly and got an E grade.')\n",
        "elif marks>=50 and marks<75:\n",
        "  print('The student has passed with a C grade.')\n",
        "elif marks>=75 and marks<90:\n",
        "  print('The student has done well and has scored a B grade.')\n",
        "else:\n",
        "  print('The student has done excellent and passed with distinction, A grade.')"
      ],
      "metadata": {
        "colab": {
          "base_uri": "https://localhost:8080/"
        },
        "id": "6CySqqsnagk_",
        "outputId": "4ca4d7bf-e7be-4508-b09f-fea443991e24"
      },
      "execution_count": null,
      "outputs": [
        {
          "output_type": "stream",
          "name": "stdout",
          "text": [
            "Enter your mark: 75\n",
            "The student has done well and has scored a B grade.\n"
          ]
        }
      ]
    },
    {
      "cell_type": "code",
      "source": [
        "weight=float(input('Please enter your weight in kg: '))\n",
        "height=float(input('Please enter your height in m: '))\n",
        "if height<3:\n",
        "  bmi=weight/(height**2)\n",
        "else:\n",
        "  height=height*10**-2\n",
        "  bmi=weight/(height**2)\n",
        "print(bmi)\n",
        "if bmi<18.5:\n",
        "  print('You are underweighted.')\n",
        "elif bmi>=18.5 and bmi<25:\n",
        "  print('Your weight is normal.')\n",
        "elif bmi>=25 and bmi<30:\n",
        "  print('You are overweighted.')\n",
        "else:\n",
        "  print('There is obesity.')\n"
      ],
      "metadata": {
        "colab": {
          "base_uri": "https://localhost:8080/"
        },
        "id": "bMDBkOUMc5ta",
        "outputId": "441b54ff-6817-4003-ca05-e70f60ce5e7a"
      },
      "execution_count": null,
      "outputs": [
        {
          "output_type": "stream",
          "name": "stdout",
          "text": [
            "Please enter your weight in kg: 41\n",
            "Please enter your height in m: 153\n",
            "17.51463112478107\n",
            "You are underweighted.\n"
          ]
        }
      ]
    },
    {
      "cell_type": "code",
      "source": [
        "n1=int(input(\"Enter a natural number: \"))\n",
        "n2=int(input(\"Enter another natural number: \"))\n",
        "if n1%n2==0:\n",
        "  print(f'{n1} is divisible by {n2}')\n",
        "  print('The quotient is', n1/n2)\n",
        "else:\n",
        "  print(f'{n1} is not divisible by {n2}')\n",
        "  print('The quotient is ', n1//n2, 'and the remainder is ', n1%n2)\n"
      ],
      "metadata": {
        "colab": {
          "base_uri": "https://localhost:8080/"
        },
        "id": "OMlEHqLNoEth",
        "outputId": "2419c5de-d2cc-4215-b046-f541e7d5e25d"
      },
      "execution_count": null,
      "outputs": [
        {
          "output_type": "stream",
          "name": "stdout",
          "text": [
            "Enter a natural number: 235\n",
            "Enter another natural number: 7\n",
            "235 is not divisible by 7\n",
            "The quotient is  33 and the remainder is  4\n"
          ]
        }
      ]
    },
    {
      "cell_type": "code",
      "source": [
        "n1=int(input(\"Enter a natural number: \"))\n",
        "n2=int(input(\"Enter another natural number: \"))\n",
        "if n1<n2:\n",
        "  print(f'{n1} is the minimum')\n",
        "else:\n",
        "  print(f'{n2} is the minimum')"
      ],
      "metadata": {
        "colab": {
          "base_uri": "https://localhost:8080/"
        },
        "id": "i_CS4TGDqTYI",
        "outputId": "99479c65-87f5-4371-9a33-a06e2844a768"
      },
      "execution_count": null,
      "outputs": [
        {
          "output_type": "stream",
          "name": "stdout",
          "text": [
            "Enter a natural number: 43\n",
            "Enter another natural number: 76\n",
            "43 is the minimum\n"
          ]
        }
      ]
    },
    {
      "cell_type": "code",
      "source": [
        "n1=int(input(\"Enter a natural number: \"))\n",
        "n2=int(input(\"Enter another natural number: \"))\n",
        "n3=int(input(\"Enter another natural number: \"))\n",
        "if n1<n2 and n1<n3:\n",
        "  print(f'{n1} is the minimum')\n",
        "elif n2<n1 and n2<n3:\n",
        "  print(f'{n2} is the minimum')\n",
        "else:\n",
        "  print(f'{n3} is the minimum')"
      ],
      "metadata": {
        "colab": {
          "base_uri": "https://localhost:8080/"
        },
        "id": "Gu0rQg7Qq2zW",
        "outputId": "adafafdf-1051-4376-9055-f7666c4faec7"
      },
      "execution_count": null,
      "outputs": [
        {
          "output_type": "stream",
          "name": "stdout",
          "text": [
            "Enter a natural number: 56\n",
            "Enter another natural number: 74\n",
            "Enter another natural number: 90\n",
            "56 is the minimum\n"
          ]
        }
      ]
    },
    {
      "cell_type": "code",
      "source": [
        "units=int(input('Enter the number of units: '))\n",
        "if units<=100:\n",
        "  price=0\n",
        "  print('You have nothing to pay.')\n",
        "elif units>100 and units<=200:\n",
        "  price=(units-100)*5\n",
        "  print(f'The bill amount is Rs{price}')\n",
        "else:\n",
        "  price=500+(units-200)*10\n",
        "  print(f'The bill amount is Rs{price}')"
      ],
      "metadata": {
        "colab": {
          "base_uri": "https://localhost:8080/"
        },
        "id": "Y4uBMTOdsUA-",
        "outputId": "9695526b-0376-442e-98d9-b4859333155f"
      },
      "execution_count": null,
      "outputs": [
        {
          "output_type": "stream",
          "name": "stdout",
          "text": [
            "Enter the number of units: 230\n",
            "The bill amount is Rs800\n"
          ]
        }
      ]
    }
  ]
}