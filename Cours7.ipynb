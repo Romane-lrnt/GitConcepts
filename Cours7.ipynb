{
  "nbformat": 4,
  "nbformat_minor": 0,
  "metadata": {
    "colab": {
      "provenance": [],
      "authorship_tag": "ABX9TyMFEFETvol2n8BxzuiYXcpN",
      "include_colab_link": true
    },
    "kernelspec": {
      "name": "python3",
      "display_name": "Python 3"
    },
    "language_info": {
      "name": "python"
    }
  },
  "cells": [
    {
      "cell_type": "markdown",
      "metadata": {
        "id": "view-in-github",
        "colab_type": "text"
      },
      "source": [
        "<a href=\"https://colab.research.google.com/github/Romane-lrnt/GitConcepts/blob/main/Cours7.ipynb\" target=\"_parent\"><img src=\"https://colab.research.google.com/assets/colab-badge.svg\" alt=\"Open In Colab\"/></a>"
      ]
    },
    {
      "cell_type": "code",
      "execution_count": null,
      "metadata": {
        "colab": {
          "base_uri": "https://localhost:8080/"
        },
        "id": "Im1WB03sdQus",
        "outputId": "fb6dc270-d762-47f6-9da4-79d456737c05"
      },
      "outputs": [
        {
          "output_type": "stream",
          "name": "stdout",
          "text": [
            "Enter a numeric value: 3\n",
            "Enter a numeric value: 4\n",
            "Enter a numeric value: \n",
            "The mean is 3.5\n"
          ]
        }
      ],
      "source": [
        "number=\"nb\"\n",
        "sum=0\n",
        "count=0\n",
        "while number!=\"\":\n",
        "  number=input(\"Enter a numeric value: \")\n",
        "  if number!=\"\":\n",
        "    sum=sum+int(number)\n",
        "    count=count+1\n",
        "mean=sum/count\n",
        "print(\"The mean is {}\".format(mean))"
      ]
    },
    {
      "cell_type": "code",
      "source": [
        "names=input(\"Enter the names separated by blanks: \")\n",
        "listnames=names.split()\n",
        "count=0\n",
        "for i in range(len(listnames)):\n",
        "  print(\"Hi\", listnames[i])\n",
        "  count=count+1\n",
        "print(\"Hi everyone ! You are {}.\".format(count))"
      ],
      "metadata": {
        "colab": {
          "base_uri": "https://localhost:8080/"
        },
        "id": "hwdQVMHWhqfD",
        "outputId": "b7421003-b01b-4bf0-edd5-92f8ef2f5e84"
      },
      "execution_count": null,
      "outputs": [
        {
          "output_type": "stream",
          "name": "stdout",
          "text": [
            "Enter the names separated by blanks: justine arnaud léna loïc romane\n",
            "Hi justine\n",
            "Hi arnaud\n",
            "Hi léna\n",
            "Hi loïc\n",
            "Hi romane\n",
            "Hi everyone ! You are 5.\n"
          ]
        }
      ]
    },
    {
      "cell_type": "code",
      "source": [
        "atomes=[\"H\",\"C\",\"N\",\"O\",\"S\",\"Cl\"]\n",
        "molecular_mass=[1.008,12.011,14.007,15.999,32.065,35.453]\n",
        "#formula=input(\"Enter the formula for witch you want to calculate the molecular mass: \")\n",
        "#listformula=formula.split()\n",
        "mass=0\n",
        "for i in range(len(atomes)):\n",
        "  print(\"How many {} do you want ?\".format(atomes[i]))\n",
        "  n=int(input())\n",
        "  mass=mass+n*molecular_mass[i]\n",
        "print(\"The final molecular mass is {:.3f}.\".format(mass))"
      ],
      "metadata": {
        "colab": {
          "base_uri": "https://localhost:8080/"
        },
        "id": "ny6e5Lg4kSFE",
        "outputId": "268fa3cc-a661-4106-b915-709365e85464"
      },
      "execution_count": null,
      "outputs": [
        {
          "output_type": "stream",
          "name": "stdout",
          "text": [
            "How many H do you want ?\n",
            "18\n",
            "How many C do you want ?\n",
            "12\n",
            "How many N do you want ?\n",
            "2\n",
            "How many O do you want ?\n",
            "1\n",
            "How many S do you want ?\n",
            "0\n",
            "How many Cl do you want ?\n",
            "2\n",
            "The final molecular mass is 277.195.\n"
          ]
        }
      ]
    },
    {
      "cell_type": "code",
      "source": [
        "coef=input(\"Enter a coefficient: \")\n",
        "listcoef=[]\n",
        "while coef!=\"\":\n",
        "  if coef!=\"\":\n",
        "    listcoef.append(int(coef))\n",
        "    coef=input(\"Enter a coefficient: \")\n",
        "x=float(input(\"Enter the x value you want: \"))\n",
        "result=0\n",
        "for i in range(len(listcoef)):\n",
        "  poly=listcoef[i]*(x**i)\n",
        "  result=result+poly\n",
        "print(\"The function P(x) at the point x={} is {:.6f}.\".format(x,result))"
      ],
      "metadata": {
        "colab": {
          "base_uri": "https://localhost:8080/"
        },
        "id": "g_6WtbnMnUi7",
        "outputId": "509649dc-3954-458c-85db-f27295a8eeac"
      },
      "execution_count": null,
      "outputs": [
        {
          "output_type": "stream",
          "name": "stdout",
          "text": [
            "Enter a coefficient: -1\n",
            "Enter a coefficient: 0\n",
            "Enter a coefficient: 0\n",
            "Enter a coefficient: 1\n",
            "Enter a coefficient: 0\n",
            "Enter a coefficient: 0\n",
            "Enter a coefficient: 5\n",
            "Enter a coefficient: \n",
            "Enter the x value you want: 0.3\n",
            "The function P(x) at the point x=0.3 is -0.969355.\n"
          ]
        }
      ]
    },
    {
      "cell_type": "code",
      "source": [],
      "metadata": {
        "id": "4lYsegdrx4LS"
      },
      "execution_count": null,
      "outputs": []
    }
  ]
}