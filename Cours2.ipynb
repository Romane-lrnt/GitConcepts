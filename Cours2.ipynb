{
  "nbformat": 4,
  "nbformat_minor": 0,
  "metadata": {
    "colab": {
      "provenance": [],
      "authorship_tag": "ABX9TyODvAxlNCDH3VzW+AbqmLvV",
      "include_colab_link": true
    },
    "kernelspec": {
      "name": "python3",
      "display_name": "Python 3"
    },
    "language_info": {
      "name": "python"
    }
  },
  "cells": [
    {
      "cell_type": "markdown",
      "metadata": {
        "id": "view-in-github",
        "colab_type": "text"
      },
      "source": [
        "<a href=\"https://colab.research.google.com/github/Romane-lrnt/GitConcepts/blob/main/Cours2.ipynb\" target=\"_parent\"><img src=\"https://colab.research.google.com/assets/colab-badge.svg\" alt=\"Open In Colab\"/></a>"
      ]
    },
    {
      "cell_type": "code",
      "execution_count": null,
      "metadata": {
        "colab": {
          "base_uri": "https://localhost:8080/"
        },
        "id": "BWQSWQZItmDV",
        "outputId": "30003a00-c633-4483-9237-8486ec4a3957"
      },
      "outputs": [
        {
          "output_type": "stream",
          "name": "stdout",
          "text": [
            "The area of the edge rectangle 2 and 3 is valid 6.\n"
          ]
        }
      ],
      "source": [
        "a=2\n",
        "b=3\n",
        "area=a*b\n",
        "print(\"The area of the edge rectangle {} and {} is valid {}.\".format(a, b, area))"
      ]
    },
    {
      "cell_type": "code",
      "source": [
        "a=5\n",
        "b=3\n",
        "c=2.5\n",
        "print((2*a+b**2)/c)"
      ],
      "metadata": {
        "colab": {
          "base_uri": "https://localhost:8080/"
        },
        "id": "EJtrUh3-x4Cc",
        "outputId": "d30d8864-2cea-42b9-dbb9-94860c2ddd2a"
      },
      "execution_count": null,
      "outputs": [
        {
          "output_type": "stream",
          "name": "stdout",
          "text": [
            "7.6\n"
          ]
        }
      ]
    },
    {
      "cell_type": "code",
      "source": [
        "V=input(\"Enter volume in L: \")\n",
        "V=float(V)\n",
        "R=0.08206\n",
        "n=input(\"Enter the number of moles: \")\n",
        "n=float(n)\n",
        "T=input(\"Enter the temperature in K: \")\n",
        "T=float(T)\n",
        "p=n*R*T/V\n",
        "print(\"Gas pressure is {} atm\".format(p))"
      ],
      "metadata": {
        "colab": {
          "base_uri": "https://localhost:8080/"
        },
        "id": "8fGBWiE_yhtk",
        "outputId": "25e0d5a2-98ed-40d8-82c8-f893f570e2fb"
      },
      "execution_count": null,
      "outputs": [
        {
          "output_type": "stream",
          "name": "stdout",
          "text": [
            "Enter volume in L: 5.0\n",
            "Enter the number of moles: 0.5\n",
            "Enter the temperature in K: 298.15\n",
            "Gas pressure is 2.4466189 atm\n"
          ]
        }
      ]
    },
    {
      "cell_type": "code",
      "source": [
        "r=15\n",
        "h=2\n",
        "V=float((1/3)*3.14*r**2*h)\n",
        "print(V)\n",
        "\n"
      ],
      "metadata": {
        "colab": {
          "base_uri": "https://localhost:8080/"
        },
        "id": "1ncN2_hp2Jlx",
        "outputId": "16ea8e8a-10e9-462f-ce9e-bf750d35fa9f"
      },
      "execution_count": null,
      "outputs": [
        {
          "output_type": "stream",
          "name": "stdout",
          "text": [
            "471.0\n"
          ]
        }
      ]
    },
    {
      "cell_type": "code",
      "source": [
        "import math\n",
        "g=math.pi\n",
        "print(g)"
      ],
      "metadata": {
        "colab": {
          "base_uri": "https://localhost:8080/"
        },
        "id": "C39kFPZg3HfQ",
        "outputId": "5f597456-336d-4596-b6c7-4a8d4cbf983a"
      },
      "execution_count": null,
      "outputs": [
        {
          "output_type": "stream",
          "name": "stdout",
          "text": [
            "3.141592653589793\n"
          ]
        }
      ]
    },
    {
      "cell_type": "code",
      "source": [
        "num1=float(input(\"Enter a numeric value: \"))\n",
        "num2=float(input(\"Enter another numeric value: \"))\n",
        "sum=num1+num2\n",
        "product=num1*num2\n",
        "print(\"The sum of {} and {} is {}\".format(num1, num2, sum))\n",
        "print(\"The product of {} and {} is {}\".format(num1, num2, product))"
      ],
      "metadata": {
        "colab": {
          "base_uri": "https://localhost:8080/"
        },
        "id": "EMUgnhot8NXe",
        "outputId": "d67d756d-ef02-4b77-b672-123701d0b503"
      },
      "execution_count": null,
      "outputs": [
        {
          "output_type": "stream",
          "name": "stdout",
          "text": [
            "Enter a numeric value: 2.3\n",
            "Enter another numeric value: 5\n",
            "The sum of 2.3 and 5.0 is 7.3\n",
            "The product of 2.3 and 5.0 is 11.5\n"
          ]
        }
      ]
    },
    {
      "cell_type": "code",
      "source": [
        "tempcel=float(input(\"Enter the temperature in degrees Celsius: \"))\n",
        "tempkelvin=tempcel+273.15\n",
        "print(\"The temperature in Kelvin is {}\".format(tempkelvin))"
      ],
      "metadata": {
        "colab": {
          "base_uri": "https://localhost:8080/"
        },
        "id": "DxydgUWhAwn5",
        "outputId": "d6f88094-890c-4d4e-ddc9-7c0059dc3e19"
      },
      "execution_count": null,
      "outputs": [
        {
          "output_type": "stream",
          "name": "stdout",
          "text": [
            "Enter the temperature in degrees Celsius: 25\n",
            "The temperature in Kelvin is 298.15\n"
          ]
        }
      ]
    },
    {
      "cell_type": "code",
      "source": [
        "edge=float(input(\"Enter the edge of the cube in cm: \"))\n",
        "area=edge**2*6\n",
        "volume=edge**3\n",
        "print(\"The {} cm edge cube has a area of {} cm2 and a volume of {} cm3.\".format(edge, area, volume))"
      ],
      "metadata": {
        "colab": {
          "base_uri": "https://localhost:8080/"
        },
        "id": "H4Rjmn5aB756",
        "outputId": "98391701-69d5-47bd-eae0-61d079f3d31e"
      },
      "execution_count": null,
      "outputs": [
        {
          "output_type": "stream",
          "name": "stdout",
          "text": [
            "Enter the edge of the cube in cm: 1.5\n",
            "The 1.5 cm edge cube has a area of 13.5 cm2 and a volume of 3.375 cm3.\n"
          ]
        }
      ]
    },
    {
      "cell_type": "code",
      "source": [
        "nb10=10\n",
        "nb20=20\n",
        "nb50=50\n",
        "pr10=int(input(\"Enter the number of 10 euros banknotes you have: \"))\n",
        "pr20=int(input(\"Enter the number of 20 euros banknotes you have: \"))\n",
        "pr50=int(input(\"Enter the number of 50 euros banknotes you have: \"))\n",
        "total=pr10*nb10+pr20*nb20+pr50*nb50\n",
        "print(\"You have in total {} euros.\".format(total))"
      ],
      "metadata": {
        "colab": {
          "base_uri": "https://localhost:8080/"
        },
        "id": "KEjOoc2hEF0Z",
        "outputId": "85786f30-5091-4ac7-af8b-4ddfd193fdf0"
      },
      "execution_count": null,
      "outputs": [
        {
          "output_type": "stream",
          "name": "stdout",
          "text": [
            "Enter the number of 10 euros banknotes you have: 5\n",
            "Enter the number of 20 euros banknotes you have: 4\n",
            "Enter the number of 50 euros banknotes you have: 2\n",
            "You have in total 230 euros.\n"
          ]
        }
      ]
    },
    {
      "cell_type": "code",
      "source": [
        "import math as m\n",
        "radius=float(input(\"Enter the radius of your circle: \"))\n",
        "lenght=2*m.pi*radius\n",
        "area=m.pi*radius**2\n",
        "print(\"For a radius of {} cm, the length of the circumferebce is {} cm and the value of the area is {} cm2.\".format(radius, lenght, area))"
      ],
      "metadata": {
        "colab": {
          "base_uri": "https://localhost:8080/"
        },
        "id": "hVwd280cF0Y9",
        "outputId": "2ac58dba-c4fb-4e08-ec3f-a84e7c921639"
      },
      "execution_count": null,
      "outputs": [
        {
          "output_type": "stream",
          "name": "stdout",
          "text": [
            "Enter the radius of your circle: 8.5\n",
            "For a radius of 8.5 cm, the length of the circumferebce is 53.40707511102649 cm and the value of the area is 226.98006922186255 cm2.\n"
          ]
        }
      ]
    },
    {
      "cell_type": "code",
      "source": [
        "import math as m\n",
        "r=float(input(\"Enter the radius in cm: \"))\n",
        "area=4*m.pi*r**2\n",
        "volume=(4/3)*r**3*m.pi\n",
        "print(\"For a radius of {} cm, the area of the sphere is {} cm2 and the volume is {} cm3.\".format(r, area, volume))"
      ],
      "metadata": {
        "colab": {
          "base_uri": "https://localhost:8080/"
        },
        "id": "pLS3Yc4MH2h6",
        "outputId": "9bb0bf61-e37b-4b63-aef8-d0ef4d70f57d"
      },
      "execution_count": null,
      "outputs": [
        {
          "output_type": "stream",
          "name": "stdout",
          "text": [
            "Enter the radius in cm: 1.5\n",
            "For a radius of 1.5 cm, the area of the sphere is 28.274333882308138 cm2 and the volume is 14.137166941154069 cm3.\n"
          ]
        }
      ]
    },
    {
      "cell_type": "code",
      "source": [
        "import math as m\n",
        "A=float(input(\"Enter the value of the pre-exponential parameter: \"))\n",
        "Ea=float(input(\"Enter the value of the activation energy: \"))\n",
        "R=8.3144621\n",
        "T=float(input(\"Enter the temperature: \"))\n",
        "T=T+273.15\n",
        "k=A*m.exp(-Ea/(R*T))\n",
        "print(\"The rate constant of the reaction is {}.\".format(k))"
      ],
      "metadata": {
        "colab": {
          "base_uri": "https://localhost:8080/"
        },
        "id": "0KjwpfUpI3sG",
        "outputId": "81a37371-8fba-476d-d4d0-d3a39c1d5003"
      },
      "execution_count": null,
      "outputs": [
        {
          "output_type": "stream",
          "name": "stdout",
          "text": [
            "Enter the value of the pre-exponential parameter: 3.718e13\n",
            "Enter the value of the activation energy: 102.9e3\n",
            "Enter the temperature: 25\n",
            "The rate constant of the reaction is 3.4914691601757076e-05.\n"
          ]
        }
      ]
    },
    {
      "cell_type": "code",
      "source": [
        "import math as m\n",
        "a=float(input(\"Enter the lenght of the first side in cm: \"))\n",
        "b=float(input(\"Enter the lenght of the second side in cm: \"))\n",
        "d=float(input(\"Enter the value of the angle between them in degrees: \"))\n",
        "c=m.sqrt(a**2+b**2-2*a*b*m.cos(m.radians(d)))\n",
        "print(\"The third side is {} cm.\".format(c))"
      ],
      "metadata": {
        "colab": {
          "base_uri": "https://localhost:8080/"
        },
        "id": "F8jE6tpMMJS2",
        "outputId": "b45be789-3fe2-47ab-b332-258b06ae03e1"
      },
      "execution_count": null,
      "outputs": [
        {
          "output_type": "stream",
          "name": "stdout",
          "text": [
            "Enter the lenght of the first side in cm: 11.2\n",
            "Enter the lenght of the second side in cm: 8.5\n",
            "Enter the value of the angle between them in degrees: 37\n",
            "The third side is 6.754983263265386 cm.\n"
          ]
        }
      ]
    }
  ]
}